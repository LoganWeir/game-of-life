{
 "cells": [
  {
   "cell_type": "code",
   "execution_count": 23,
   "metadata": {},
   "outputs": [
    {
     "name": "stdout",
     "output_type": "stream",
     "text": [
      "[[0. 0. 0. 0. 0.]\n",
      " [0. 0. 0. 0. 0.]\n",
      " [0. 0. 0. 1. 0.]\n",
      " [0. 0. 0. 0. 0.]\n",
      " [0. 0. 0. 0. 0.]]\n"
     ]
    }
   ],
   "source": [
    "test = np.zeros((5,5))\n",
    "test[2,3] = 1\n",
    "print(test)"
   ]
  },
  {
   "cell_type": "code",
   "execution_count": 17,
   "metadata": {},
   "outputs": [],
   "source": [
    "import numpy as np\n",
    "from typing import Iterable, Tuple\n",
    "from PIL import Image\n",
    "\n",
    "def update(old_grid: np.ndarray) -> np.ndarray:\n",
    "    new_grid = old_grid.copy()\n",
    "    rows, cols = old_grid.shape\n",
    "\n",
    "    cell_targets = set()\n",
    "    live_cells = np.column_stack(np.nonzero(new_grid))\n",
    "    for cell in live_cells:\n",
    "        x, y = cell\n",
    "        cell_targets.add((int(x), int(y)))\n",
    "        for x_neighbor in range(max(x-1, 0), min(x+2, rows)):\n",
    "            for y_neighor in range(max(y-1, 0), min(y+2, cols)):\n",
    "                cell_targets.add((x_neighbor, y_neighor))\n",
    "\n",
    "    for x, y in cell_targets:\n",
    "        neighborhood = old_grid[max(x-1, 0): min(x+2, rows), max(y-1, 0): min(y+2, cols)]\n",
    "        if np.sum(neighborhood) == 3:\n",
    "            new_grid[x, y] = 1\n",
    "        elif np.sum(neighborhood) == 4:\n",
    "            new_grid[x, y] = old_grid[x, y]\n",
    "        else:\n",
    "            new_grid[x, y] = 0\n",
    "    return new_grid\n",
    "\n",
    "def expand_array_by_factor(grid: np.ndarray, factor: int) -> np.ndarray:\n",
    "    rows, cols = grid.shape\n",
    "    expanded = np.zeros((rows * factor, cols * factor), dtype=np.uint8)\n",
    "    for x in range(rows):\n",
    "        for y in range(cols):\n",
    "            if grid[x, y] == 1:\n",
    "                expanded[x * factor:(x + 1) * factor,  y * factor:(y + 1) * factor] = 1\n",
    "    return expanded\n",
    "\n",
    "def generate_image(grid: np.ndarray, idx: int, expansion: int = 50) -> Image:\n",
    "    expanded_grid = expand_array_by_factor(grid, expansion)\n",
    "    return Image.fromarray(expanded_grid * 255)\n",
    "\n",
    "def play(h: int, w: int, seed: Iterable[Tuple[int, int]], steps: int) -> None:\n",
    "    # TODO: show interactive b&w grid so that user can visually create a seed\n",
    "    if max(map(lambda t: t[0], seed)) >= w:\n",
    "        raise Exception(\"Seed exceeds range of grid in x\")\n",
    "    \n",
    "    if max(map(lambda t: t[1], seed)) >= h:\n",
    "        raise Exception(\"Seed exceeds range of grid in y\")\n",
    "    \n",
    "    frames = []\n",
    "    grid = np.zeros((h, w)).astype(np.uint8)\n",
    "    for x,y in seed:\n",
    "        grid[x][y] = 1\n",
    "    \n",
    "    frames.append(generate_image(grid, 0))\n",
    "    grid = update(grid)\n",
    "\n",
    "    for s in range(steps):\n",
    "        grid = update(grid)\n",
    "        frames.append(generate_image(grid, s + 1))\n",
    "\n",
    "    frames[0].save('output.gif', save_all=True, append_images=frames[1:], duration=steps*3, loop=0)\n",
    "\n",
    "play(20,20,[(1,1), (2,2), (2,3),(3,1),(3,2)], 40)"
   ]
  },
  {
   "cell_type": "code",
   "execution_count": 42,
   "metadata": {},
   "outputs": [
    {
     "data": {
      "text/plain": [
       "(20, 3)"
      ]
     },
     "execution_count": 42,
     "metadata": {},
     "output_type": "execute_result"
    }
   ],
   "source": [
    "test = [(20,1), (2,2), (2,3),(3,1),(3,2)]\n",
    "max_x = max(map(lambda t: t[0], test))\n",
    "max_y = max(map(lambda t: t[1], test))\n",
    "max_x, max_y"
   ]
  },
  {
   "cell_type": "code",
   "execution_count": 2,
   "metadata": {},
   "outputs": [
    {
     "name": "stdout",
     "output_type": "stream",
     "text": [
      "[(5, 4), (5, 5), (5, 6), (6, 4), (6, 5), (6, 6), (7, 4), (7, 5), (7, 6), (8, 4), (8, 5), (8, 6), (9, 4), (9, 5), (9, 6), (10, 4), (10, 5), (10, 6), (11, 4), (11, 5), (11, 6), (12, 4), (12, 5), (12, 6)]\n"
     ]
    }
   ],
   "source": [
    "x_start, y_start = 5, 4\n",
    "coords = []\n",
    "for x in range(8):\n",
    "    for y in range(3):\n",
    "        coords.append((x_start + x, y_start + y))\n",
    "print(coords)"
   ]
  },
  {
   "cell_type": "code",
   "execution_count": null,
   "metadata": {},
   "outputs": [],
   "source": []
  }
 ],
 "metadata": {
  "kernelspec": {
   "display_name": "Python 3",
   "language": "python",
   "name": "python3"
  },
  "language_info": {
   "codemirror_mode": {
    "name": "ipython",
    "version": 3
   },
   "file_extension": ".py",
   "mimetype": "text/x-python",
   "name": "python",
   "nbconvert_exporter": "python",
   "pygments_lexer": "ipython3",
   "version": "3.11.8"
  }
 },
 "nbformat": 4,
 "nbformat_minor": 2
}
